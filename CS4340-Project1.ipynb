{
 "cells": [
  {
   "cell_type": "markdown",
   "metadata": {},
   "source": [
    "John David\n",
    "CS 4340 - Machine Learning\n",
    "\n",
    "jdcvd@mail.umsl.edu\n",
    "\n",
    "### Project No. 1\n",
    "### Perceptron Learning Algorithm for binary classification\n",
    " \n",
    " \n",
    "Import libraries via pylab."
   ]
  },
  {
   "cell_type": "markdown",
   "metadata": {},
   "source": [
    "### This document contains multiple tests of the Perceptron Learning Algorithm."
   ]
  },
  {
   "cell_type": "code",
   "execution_count": 35,
   "metadata": {},
   "outputs": [],
   "source": [
    "from pylab import rand, plot, show, norm"
   ]
  },
  {
   "cell_type": "markdown",
   "metadata": {},
   "source": [
    "Perceptron Class.\n",
    "\n",
    "This Class initializes a perceptron with a weight of 0.0, 0.0\n",
    "and a learning rate of 0.3\n"
   ]
  },
  {
   "cell_type": "code",
   "execution_count": 36,
   "metadata": {},
   "outputs": [],
   "source": [
    "class Perceptron:\n",
    "    def __init__(self):\n",
    "        \n",
    "        # ranged: [-1.0, 1.0]\n",
    "        self.weight = [0.0, 0.0] \n",
    "        # step size constant\n",
    "        self.learningRate = .3  \n",
    "        \n",
    "    def response(self, x):\n",
    "        \n",
    "        # dot product between x and w\n",
    "        y = x[0] * self.weight[0] + x[1] * self.weight[1]  \n",
    "        if y >= 0:\n",
    "            return 1\n",
    "        else:\n",
    "            return -1\n",
    "        \n",
    "    def updateWeights(self, x, iterError):\n",
    "         \n",
    "        self.weight[0] += self.learningRate * iterError * x[0]\n",
    "        self.weight[1] += self.learningRate * iterError * x[1]\n",
    "        \n",
    "    def run(self, data):\n",
    "        \"\"\"\n",
    "        train all the vectors in data\n",
    "        Every vector in data must have three elements,\n",
    "        the third element (x[2]) must be the label (desired output)\n",
    "        \"\"\"\n",
    "        learned = False\n",
    "        iteration = 0\n",
    "        \n",
    "        weightUpdateCount = 0\n",
    "        \n",
    "        while not learned:\n",
    "            error = 0.0\n",
    "            for x in data:\n",
    "                r = self.response(x)\n",
    "                # if we have a wrong response\n",
    "                if x[2] != r:  \n",
    "                    # desired response - actual response\n",
    "                    iterError = x[2] - r \n",
    "                    self.updateWeights(x, iterError)\n",
    "                    weightUpdateCount+=1\n",
    "                    error += abs(iterError)\n",
    "                iteration += 1\n",
    "            if error == 0.0 or iteration >= 10000:\n",
    "                print(\"iterations: \", iteration)\n",
    "                print(\"Error: \", error)\n",
    "                print(\"Total Weight Vector Updates: \", weightUpdateCount)\n",
    "                learned = True \n",
    "                # Stop learning"
   ]
  },
  {
   "cell_type": "markdown",
   "metadata": {},
   "source": [
    "### generation function for a linearly separable data set\n",
    "\n",
    "To create a set that has a high probability of being linearly separable, we partition each random x and y \n",
    "by +/- .5  \n",
    "\n",
    "This should partition most of the data points in easily definable regions."
   ]
  },
  {
   "cell_type": "code",
   "execution_count": 37,
   "metadata": {
    "collapsed": true
   },
   "outputs": [],
   "source": [
    "def generateSeparableData(n):\n",
    "    \n",
    "    xblue = (rand(n) * 2 - 1) / 2 - 0.5\n",
    "    yblue = (rand(n) * 2 - 1) / 2 + 0.5\n",
    "    xred = (rand(n) * 2 - 1) / 2 + 0.5\n",
    "    yred = (rand(n) * 2 - 1) / 2 - 0.5\n",
    "    \n",
    "    inputs = []\n",
    "    for i in range(len(xblue)):\n",
    "        inputs.append([xblue[i], yblue[i], 1])\n",
    "        inputs.append([xred[i], yred[i], -1])\n",
    "    return inputs"
   ]
  },
  {
   "cell_type": "markdown",
   "metadata": {},
   "source": [
    "### generation function for a potentially linearly separable data set\n",
    "\n",
    "To create a set that is only partially linearly separable, we weight each random x and y \n",
    "by +/- .25\n",
    "\n",
    "This should create a fair amount of overlap between the binary value regions."
   ]
  },
  {
   "cell_type": "code",
   "execution_count": 38,
   "metadata": {
    "collapsed": true
   },
   "outputs": [],
   "source": [
    "def generateData(n):\n",
    "\n",
    "    xblue = (rand(n) * 2 - 1) / 2 - 0.25\n",
    "    yblue = (rand(n) * 2 - 1) / 2 + 0.25\n",
    "    xred = (rand(n) * 2 - 1) / 2 + 0.25\n",
    "    yred = (rand(n) * 2 - 1) / 2 - 0.25\n",
    "    \n",
    "    inputs = []\n",
    "    for i in range(len(xblue)):\n",
    "        inputs.append([xblue[i], yblue[i], 1])\n",
    "        inputs.append([xred[i], yred[i], -1])\n",
    "    return inputs"
   ]
  },
  {
   "cell_type": "markdown",
   "metadata": {},
   "source": [
    "### generation function for a data that would not be linearly separable\n",
    "\n",
    "this function will generate a completely random data set that should not be linearly separable"
   ]
  },
  {
   "cell_type": "code",
   "execution_count": 39,
   "metadata": {
    "collapsed": true
   },
   "outputs": [],
   "source": [
    "def generateNonLinearData(n):\n",
    "\n",
    "    xblue = (rand(n) * 2 - 1) / 2\n",
    "    yblue = (rand(n) * 2 - 1) / 2\n",
    "    xred = (rand(n) * 2 - 1) / 2\n",
    "    yred = (rand(n) * 2 - 1) / 2\n",
    "    \n",
    "    inputs = []\n",
    "    for i in range(len(xblue)):\n",
    "        inputs.append([xblue[i], yblue[i], 1])\n",
    "        inputs.append([xred[i], yred[i], -1])\n",
    "    return inputs"
   ]
  },
  {
   "cell_type": "markdown",
   "metadata": {},
   "source": [
    "# PART ONE\n",
    "### We run three tests on data that is linearly separable, partially linearly separable and finally \n",
    "### data that is not linearly separable."
   ]
  },
  {
   "cell_type": "markdown",
   "metadata": {},
   "source": [
    "### Test 1 on Linearly Separable Data\n",
    "\n",
    "The first test uses a weight set of [0.0, 0.0] and a learning rate of .3, and training \n",
    "and testing data sets that are easily separated linearly."
   ]
  },
  {
   "cell_type": "code",
   "execution_count": 40,
   "metadata": {},
   "outputs": [
    {
     "name": "stdout",
     "output_type": "stream",
     "text": [
      "\n",
      "Training set plot: \n"
     ]
    },
    {
     "data": {
      "image/png": "[encoded data removed]",
      "text/plain": [
       "<matplotlib.figure.Figure at 0x10ef27908>"
      ]
     },
     "metadata": {},
     "output_type": "display_data"
    },
    {
     "name": "stdout",
     "output_type": "stream",
     "text": [
      "iterations:  100\n",
      "Error:  0.0\n",
      "Total Weight Vector Updates:  1\n"
     ]
    },
    {
     "data": {
      "image/png": "[encoded data removed]",
      "text/plain": [
       "<matplotlib.figure.Figure at 0x10ef9ea58>"
      ]
     },
     "metadata": {},
     "output_type": "display_data"
    },
    {
     "name": "stdout",
     "output_type": "stream",
     "text": [
      "\n",
      "Testing set plot: \n",
      "Checking for errors...\n",
      "Total number of misclassifications:  0\n",
      "boundary equation: 0.469044761148 x + b\n"
     ]
    },
    {
     "data": {
      "image/png": "[encoded data removed]",
      "text/plain": [
       "<matplotlib.figure.Figure at 0x10f088f28>"
      ]
     },
     "metadata": {},
     "output_type": "display_data"
    }
   ],
   "source": [
    "trainset = generateSeparableData(25) # train set generation\n",
    "\n",
    "# Show the training set.\n",
    "for x in trainset:\n",
    " r = x[2]\n",
    " if r == 1:\n",
    "  plot(x[0],x[1],'ob')  \n",
    " else:\n",
    "  plot(x[0],x[1],'or')\n",
    "\n",
    "\n",
    "print()\n",
    "print(\"Training set plot: \")\n",
    "\n",
    "show()\n",
    " \n",
    "# create the perceptron instance.\n",
    "perceptron = Perceptron()   \n",
    "\n",
    "# run the training set through the perceptron\n",
    "perceptron.run(trainset)  \n",
    "\n",
    "# generate the testing set\n",
    "testset = generateSeparableData(15)  \n",
    "\n",
    "# Show the testing set.\n",
    "for x in testset:\n",
    " r = x[2]\n",
    " if r == 1:\n",
    "  plot(x[0],x[1],'ob')  \n",
    " else:\n",
    "  plot(x[0],x[1],'or')\n",
    "\n",
    "show()\n",
    "\n",
    "print()\n",
    "print(\"Testing set plot: \")\n",
    "print(\"Checking for errors...\")\n",
    "\n",
    "err = 0\n",
    "\n",
    "# Perceptron test\n",
    "for x in testset:\n",
    " r = perceptron.response(x)\n",
    "# check if the response is not correct, print error\n",
    " if r != x[2]: \n",
    "  err += 1      \n",
    "  print(\"error: \", x[0], \", \", x[1], \", \", x[2])\n",
    " if r == 1:\n",
    "  plot(x[0],x[1],'ob')  \n",
    " else:\n",
    "  plot(x[0],x[1],'or')\n",
    "\n",
    "print(\"Total number of misclassifications: \", err)\n",
    "\n",
    "\n",
    "\n",
    "# plot of the separation line.\n",
    "# The separation line is orthogonal to w\n",
    "n = norm(perceptron.weight)\n",
    "\n",
    "print(\"boundary equation:\", n, \"x + b\")\n",
    "\n",
    "ww = perceptron.weight/n\n",
    "ww1 = [ww[1],-ww[0]]\n",
    "ww2 = [-ww[1],ww[0]]\n",
    "plot([ww1[0], ww2[0]],[ww1[1], ww2[1]],'--k')\n",
    "show()"
   ]
  },
  {
   "cell_type": "markdown",
   "metadata": {},
   "source": [
    "### Summary of results from the first perceptron test.\n",
    "\n",
    "The training and testing sets were easily linearly separable, so it only took\n",
    "@ 100 iterations to discover a boundary equation.  A low number ( 1 ) of \n",
    "weight vector updates were required. As expected, there were no errors or misclassifications."
   ]
  },
  {
   "cell_type": "markdown",
   "metadata": {},
   "source": [
    "### TEST 2 w/ Partially Linearly Separable Data \n",
    "\n",
    "The second test uses a weight set of [0.0, 0.0] and a learning rate of .3, and \n",
    "training and testing data sets that are only partially separated linearly."
   ]
  },
  {
   "cell_type": "code",
   "execution_count": 41,
   "metadata": {},
   "outputs": [
    {
     "name": "stdout",
     "output_type": "stream",
     "text": [
      "\n",
      "Training set plot: \n"
     ]
    },
    {
     "data": {
      "image/png": "[encoded data removed]",
      "text/plain": [
       "<matplotlib.figure.Figure at 0x10f0b2828>"
      ]
     },
     "metadata": {},
     "output_type": "display_data"
    },
    {
     "name": "stdout",
     "output_type": "stream",
     "text": [
      "iterations:  10000\n",
      "Error:  16.0\n",
      "Total Weight Vector Updates:  1540\n"
     ]
    },
    {
     "data": {
      "image/png": "[encoded data removed]",
      "text/plain": [
       "<matplotlib.figure.Figure at 0x10f5b8668>"
      ]
     },
     "metadata": {},
     "output_type": "display_data"
    },
    {
     "name": "stdout",
     "output_type": "stream",
     "text": [
      "\n",
      "Testing set plot: \n",
      "Checking for errors...\n",
      "error:  0.117990145507 ,  -0.0635790638159 ,  1\n",
      "error:  -0.189081369813 ,  -0.0570350014674 ,  1\n",
      "error:  0.148206703101 ,  -0.0227951666789 ,  1\n",
      "error:  -0.0381014848718 ,  0.128540817164 ,  -1\n",
      "error:  -0.043115653272 ,  0.158435884968 ,  -1\n",
      "error:  0.734587475743 ,  0.183570603053 ,  -1\n",
      "Total number of misclassifications:  6\n",
      "boundary equation: 0.345538606657 x + b\n"
     ]
    },
    {
     "data": {
      "image/png": "[encoded data removed]",
      "text/plain": [
       "<matplotlib.figure.Figure at 0x10f0888d0>"
      ]
     },
     "metadata": {},
     "output_type": "display_data"
    }
   ],
   "source": [
    "class Perceptron:\n",
    "    def __init__(self):\n",
    "        \n",
    "        # ranged: [-1.0, 1.0]\n",
    "        self.weight = [0.0, 0.0] \n",
    "        # step size constant\n",
    "        self.learningRate = .3  \n",
    "        \n",
    "    def response(self, x):\n",
    "        \n",
    "        # dot product between x and w\n",
    "        y = x[0] * self.weight[0] + x[1] * self.weight[1]  \n",
    "        if y >= 0:\n",
    "            return 1\n",
    "        else:\n",
    "            return -1\n",
    "        \n",
    "    def updateWeights(self, x, iterError):\n",
    "         \n",
    "        self.weight[0] += self.learningRate * iterError * x[0]\n",
    "        self.weight[1] += self.learningRate * iterError * x[1]\n",
    "        \n",
    "    def run(self, data):\n",
    "        \"\"\"\n",
    "        train all the vectors in data\n",
    "        Every vector in data must have three elements,\n",
    "        the third element (x[2]) must be the label (desired output)\n",
    "        \"\"\"\n",
    "        learned = False\n",
    "        iteration = 0\n",
    "        \n",
    "        weightUpdateCount = 0\n",
    "        \n",
    "        while not learned:\n",
    "            error = 0.0\n",
    "            for x in data:\n",
    "                r = self.response(x)\n",
    "                # if we have a wrong response\n",
    "                if x[2] != r:  \n",
    "                    # desired response - actual response\n",
    "                    iterError = x[2] - r \n",
    "                    self.updateWeights(x, iterError)\n",
    "                    weightUpdateCount+=1\n",
    "                    error += abs(iterError)\n",
    "                iteration += 1\n",
    "            if error == 0.0 or iteration >= 10000:\n",
    "                print(\"iterations: \", iteration)\n",
    "                print(\"Error: \", error)\n",
    "                print(\"Total Weight Vector Updates: \", weightUpdateCount)\n",
    "                learned = True \n",
    "                # Stop learning\n",
    "\n",
    "def generateData(n):\n",
    "\n",
    "    xblue = (rand(n) * 2 - 1) / 2 - 0.25\n",
    "    yblue = (rand(n) * 2 - 1) / 2 + 0.25\n",
    "    xred = (rand(n) * 2 - 1) / 2 + 0.25\n",
    "    yred = (rand(n) * 2 - 1) / 2 - 0.25\n",
    "    \n",
    "    inputs = []\n",
    "    for i in range(len(xblue)):\n",
    "        inputs.append([xblue[i], yblue[i], 1])\n",
    "        inputs.append([xred[i], yred[i], -1])\n",
    "    return inputs\n",
    "\n",
    "trainset = generateData(25) # train set generation\n",
    "\n",
    "# Show the training set.\n",
    "for x in trainset:\n",
    " r = x[2]\n",
    " if r == 1:\n",
    "  plot(x[0],x[1],'ob')  \n",
    " else:\n",
    "  plot(x[0],x[1],'or')\n",
    "\n",
    "\n",
    "print()\n",
    "print(\"Training set plot: \")\n",
    "\n",
    "show()\n",
    " \n",
    "# create the perceptron instance.\n",
    "perceptron = Perceptron()   \n",
    "\n",
    "# run the training set through the perceptron\n",
    "perceptron.run(trainset)  \n",
    "\n",
    "# generate the testing set\n",
    "testset = generateData(15)  \n",
    "\n",
    "# Show the testing set.\n",
    "for x in testset:\n",
    " r = x[2]\n",
    " if r == 1:\n",
    "  plot(x[0],x[1],'ob')  \n",
    " else:\n",
    "  plot(x[0],x[1],'or')\n",
    "\n",
    "show()\n",
    "\n",
    "print()\n",
    "print(\"Testing set plot: \")\n",
    "print(\"Checking for errors...\")\n",
    "\n",
    "err = 0\n",
    "\n",
    "# Perceptron test\n",
    "for x in testset:\n",
    " r = perceptron.response(x)\n",
    "# check if the response is not correct, print error\n",
    " if r != x[2]: \n",
    "  err += 1      \n",
    "  print(\"error: \", x[0], \", \", x[1], \", \", x[2])\n",
    " if r == 1:\n",
    "  plot(x[0],x[1],'ob')  \n",
    " else:\n",
    "  plot(x[0],x[1],'or')\n",
    "\n",
    "print(\"Total number of misclassifications: \", err)\n",
    "\n",
    "\n",
    "\n",
    "# plot of the separation line.\n",
    "# The separation line is orthogonal to w\n",
    "n = norm(perceptron.weight)\n",
    "\n",
    "print(\"boundary equation:\", n, \"x + b\")\n",
    "\n",
    "ww = perceptron.weight/n\n",
    "ww1 = [ww[1],-ww[0]]\n",
    "ww2 = [-ww[1],ww[0]]\n",
    "plot([ww1[0], ww2[0]],[ww1[1], ww2[1]],'--k')\n",
    "show()"
   ]
  },
  {
   "cell_type": "markdown",
   "metadata": {},
   "source": [
    "### Summary of results from the second perceptron test.\n",
    "\n",
    "The training and testing sets were only partially linearly separable, so it took @ 10000 iterations to discover a boundary equation. Also, a higher number ( 1540 ) of weight vector updates were required. The algorithm had a\n",
    "fair number ( 6 ) of misclassifications.  "
   ]
  },
  {
   "cell_type": "markdown",
   "metadata": {},
   "source": [
    "### TEST 3 w/ Non Linearly Separable Data \n",
    "\n",
    "The second test uses a weight set of [0.0, 0.0] and a learning rate of .3, and \n",
    "training and testing data sets that are not easily separated linearly."
   ]
  },
  {
   "cell_type": "code",
   "execution_count": 42,
   "metadata": {
    "scrolled": false
   },
   "outputs": [
    {
     "name": "stdout",
     "output_type": "stream",
     "text": [
      "\n",
      "Training set plot: \n"
     ]
    },
    {
     "data": {
      "image/png": "[encoded data removed]",
      "text/plain": [
       "<matplotlib.figure.Figure at 0x10f45bc18>"
      ]
     },
     "metadata": {},
     "output_type": "display_data"
    },
    {
     "name": "stdout",
     "output_type": "stream",
     "text": [
      "iterations:  10000\n",
      "Error:  54.0\n",
      "Total Weight Vector Updates:  5185\n"
     ]
    },
    {
     "data": {
      "image/png": "[encoded data removed]",
      "text/plain": [
       "<matplotlib.figure.Figure at 0x10f1b0cf8>"
      ]
     },
     "metadata": {},
     "output_type": "display_data"
    },
    {
     "name": "stdout",
     "output_type": "stream",
     "text": [
      "\n",
      "Testing set plot: \n",
      "Checking for errors...\n",
      "error:  -0.182503974196 ,  0.469188461942 ,  -1\n",
      "error:  -0.0355970564299 ,  0.456344362116 ,  -1\n",
      "error:  -0.298215302749 ,  -0.2404232938 ,  1\n",
      "error:  -0.303271684133 ,  -0.358512748428 ,  1\n",
      "error:  0.445070082488 ,  -0.0629303090394 ,  -1\n",
      "error:  -0.0181851927403 ,  -0.465823680167 ,  1\n",
      "error:  0.219759781777 ,  -0.240069617689 ,  1\n",
      "error:  0.206367588367 ,  -0.063047449334 ,  -1\n",
      "error:  0.353988198534 ,  -0.340825484865 ,  1\n",
      "error:  0.472136329316 ,  0.0351478104964 ,  -1\n",
      "error:  0.0785951994782 ,  -0.0878635996736 ,  1\n",
      "error:  0.485276052983 ,  0.307695082687 ,  -1\n",
      "error:  -0.457782430263 ,  -0.15332585921 ,  1\n",
      "error:  0.391602646957 ,  0.118359312652 ,  -1\n",
      "Total number of misclassifications:  14\n",
      "boundary equation: 0.0585798045954 x + b\n"
     ]
    },
    {
     "data": {
      "image/png": "[encoded data removed]",
      "text/plain": [
       "<matplotlib.figure.Figure at 0x10f7ce1d0>"
      ]
     },
     "metadata": {},
     "output_type": "display_data"
    }
   ],
   "source": [
    "class Perceptron:\n",
    "    def __init__(self):\n",
    "        \n",
    "        # ranged: [-1.0, 1.0]\n",
    "        self.weight = [0.0, 0.0] \n",
    "        # step size constant\n",
    "        self.learningRate = .3  \n",
    "        \n",
    "    def response(self, x):\n",
    "        \n",
    "        # dot product between x and w\n",
    "        y = x[0] * self.weight[0] + x[1] * self.weight[1]  \n",
    "        if y >= 0:\n",
    "            return 1\n",
    "        else:\n",
    "            return -1\n",
    "        \n",
    "    def updateWeights(self, x, iterError):\n",
    "         \n",
    "        self.weight[0] += self.learningRate * iterError * x[0]\n",
    "        self.weight[1] += self.learningRate * iterError * x[1]\n",
    "        \n",
    "    def run(self, data):\n",
    "        \"\"\"\n",
    "        train all the vectors in data\n",
    "        Every vector in data must have three elements,\n",
    "        the third element (x[2]) must be the label (desired output)\n",
    "        \"\"\"\n",
    "        learned = False\n",
    "        iteration = 0\n",
    "        \n",
    "        weightUpdateCount = 0\n",
    "        \n",
    "        while not learned:\n",
    "            error = 0.0\n",
    "            for x in data:\n",
    "                r = self.response(x)\n",
    "                # if we have a wrong response\n",
    "                if x[2] != r:  \n",
    "                    # desired response - actual response\n",
    "                    iterError = x[2] - r \n",
    "                    self.updateWeights(x, iterError)\n",
    "                    weightUpdateCount+=1\n",
    "                    error += abs(iterError)\n",
    "                iteration += 1\n",
    "            if error == 0.0 or iteration >= 10000:\n",
    "                print(\"iterations: \", iteration)\n",
    "                print(\"Error: \", error)\n",
    "                print(\"Total Weight Vector Updates: \", weightUpdateCount)\n",
    "                learned = True \n",
    "                # Stop learning\n",
    "\n",
    "def generateData(n):\n",
    "\n",
    "    xblue = (rand(n) * 2 - 1) / 2 - 0.25\n",
    "    yblue = (rand(n) * 2 - 1) / 2 + 0.25\n",
    "    xred = (rand(n) * 2 - 1) / 2 + 0.25\n",
    "    yred = (rand(n) * 2 - 1) / 2 - 0.25\n",
    "    \n",
    "    inputs = []\n",
    "    for i in range(len(xblue)):\n",
    "        inputs.append([xblue[i], yblue[i], 1])\n",
    "        inputs.append([xred[i], yred[i], -1])\n",
    "    return inputs\n",
    "\n",
    "trainset = generateNonLinearData(25) # train set generation\n",
    "\n",
    "# Show the training set.\n",
    "for x in trainset:\n",
    " r = x[2]\n",
    " if r == 1:\n",
    "  plot(x[0],x[1],'ob')  \n",
    " else:\n",
    "  plot(x[0],x[1],'or')\n",
    "\n",
    "\n",
    "print()\n",
    "print(\"Training set plot: \")\n",
    "\n",
    "show()\n",
    " \n",
    "# create the perceptron instance.\n",
    "perceptron = Perceptron()   \n",
    "\n",
    "# run the training set through the perceptron\n",
    "perceptron.run(trainset)  \n",
    "\n",
    "# generate the testing set\n",
    "testset = generateNonLinearData(15)  \n",
    "\n",
    "# Show the testing set.\n",
    "for x in testset:\n",
    " r = x[2]\n",
    " if r == 1:\n",
    "  plot(x[0],x[1],'ob')  \n",
    " else:\n",
    "  plot(x[0],x[1],'or')\n",
    "\n",
    "show()\n",
    "\n",
    "print()\n",
    "print(\"Testing set plot: \")\n",
    "print(\"Checking for errors...\")\n",
    "\n",
    "err = 0\n",
    "\n",
    "# Perceptron test\n",
    "for x in testset:\n",
    " r = perceptron.response(x)\n",
    "# check if the response is not correct, print error\n",
    " if r != x[2]: \n",
    "  err += 1      \n",
    "  print(\"error: \", x[0], \", \", x[1], \", \", x[2])\n",
    " if r == 1:\n",
    "  plot(x[0],x[1],'ob')  \n",
    " else:\n",
    "  plot(x[0],x[1],'or')\n",
    "\n",
    "print(\"Total number of misclassifications: \", err)\n",
    "\n",
    "\n",
    "\n",
    "# plot of the separation line.\n",
    "# The separation line is orthogonal to w\n",
    "n = norm(perceptron.weight)\n",
    "\n",
    "print(\"boundary equation:\", n, \"x + b\")\n",
    "\n",
    "ww = perceptron.weight/n\n",
    "ww1 = [ww[1],-ww[0]]\n",
    "ww2 = [-ww[1],ww[0]]\n",
    "plot([ww1[0], ww2[0]],[ww1[1], ww2[1]],'--k')\n",
    "show()"
   ]
  },
  {
   "cell_type": "markdown",
   "metadata": {},
   "source": [
    "### Summary of the results from the third perceptron test.\n",
    "\n",
    "The training and testing sets were not designed to be linearly separable, so it took @ 10000 iterations to discover a workable boundary equation. Also, a higher number ( 5185 ) of weight vector updates were required. This is further highlighted by the fact the training algorithm had a very high amound of errors, at 54.  The algorithm had a very high number ( 14 ) of misclassifications. "
   ]
  },
  {
   "cell_type": "markdown",
   "metadata": {},
   "source": [
    "# PART TWO\n",
    "### Will the initial choice of weights affect the perceptron learning algorithm?"
   ]
  },
  {
   "cell_type": "markdown",
   "metadata": {},
   "source": [
    "In this test of the PLA, we use a partially linearly separable data set, as used in Test 2.\n",
    "Instead of weights set at 0.0, 0.0, we choose 4.0, 4.0 and compare the results.  We hold all other \n",
    "elements of the test the same.  The learning rate is .3 and the training and testing sets are \n",
    "generated using the same formula."
   ]
  },
  {
   "cell_type": "code",
   "execution_count": 43,
   "metadata": {
    "scrolled": false
   },
   "outputs": [
    {
     "name": "stdout",
     "output_type": "stream",
     "text": [
      "\n",
      "Training set plot: \n"
     ]
    },
    {
     "data": {
      "image/png": "[encoded data removed]",
      "text/plain": [
       "<matplotlib.figure.Figure at 0x10ef96f60>"
      ]
     },
     "metadata": {},
     "output_type": "display_data"
    },
    {
     "name": "stdout",
     "output_type": "stream",
     "text": [
      "iterations:  10000\n",
      "Error:  16.0\n",
      "Total Weight Vector Updates:  1322\n"
     ]
    },
    {
     "data": {
      "image/png": "[encoded data removed]",
      "text/plain": [
       "<matplotlib.figure.Figure at 0x10eeb2b38>"
      ]
     },
     "metadata": {},
     "output_type": "display_data"
    },
    {
     "name": "stdout",
     "output_type": "stream",
     "text": [
      "\n",
      "Testing set plot: \n",
      "Checking for errors...\n",
      "error:  0.237159043171 ,  -0.104162986423 ,  1\n",
      "error:  0.156072374768 ,  0.123952884149 ,  -1\n",
      "error:  0.157462678408 ,  -0.182459384771 ,  1\n",
      "error:  -0.489174783055 ,  -0.22585098176 ,  1\n",
      "Total number of misclassifications:  4\n",
      "boundary equation: 0.492217161517 x + b\n"
     ]
    },
    {
     "data": {
      "image/png": "[encoded data removed]",
      "text/plain": [
       "<matplotlib.figure.Figure at 0x1051189b0>"
      ]
     },
     "metadata": {},
     "output_type": "display_data"
    }
   ],
   "source": [
    "class Perceptron:\n",
    "    def __init__(self):\n",
    "        \n",
    "        # ranged: [-1.0, 1.0]\n",
    "        self.weight = [4.0, 4.0] \n",
    "        # step size constant\n",
    "        self.learningRate = .3  \n",
    "        \n",
    "    def response(self, x):\n",
    "        \n",
    "        # dot product between x and w\n",
    "        y = x[0] * self.weight[0] + x[1] * self.weight[1]  \n",
    "        if y >= 0:\n",
    "            return 1\n",
    "        else:\n",
    "            return -1\n",
    "        \n",
    "    def updateWeights(self, x, iterError):\n",
    "         \n",
    "        self.weight[0] += self.learningRate * iterError * x[0]\n",
    "        self.weight[1] += self.learningRate * iterError * x[1]\n",
    "        \n",
    "    def run(self, data):\n",
    "        \"\"\"\n",
    "        train all the vectors in data\n",
    "        Every vector in data must have three elements,\n",
    "        the third element (x[2]) must be the label (desired output)\n",
    "        \"\"\"\n",
    "        learned = False\n",
    "        iteration = 0\n",
    "        \n",
    "        weightUpdateCount = 0\n",
    "        \n",
    "        while not learned:\n",
    "            error = 0.0\n",
    "            for x in data:\n",
    "                r = self.response(x)\n",
    "                # if we have a wrong response\n",
    "                if x[2] != r:  \n",
    "                    # desired response - actual response\n",
    "                    iterError = x[2] - r \n",
    "                    self.updateWeights(x, iterError)\n",
    "                    weightUpdateCount+=1\n",
    "                    error += abs(iterError)\n",
    "                iteration += 1\n",
    "            if error == 0.0 or iteration >= 10000:\n",
    "                print(\"iterations: \", iteration)\n",
    "                print(\"Error: \", error)\n",
    "                print(\"Total Weight Vector Updates: \", weightUpdateCount)\n",
    "                learned = True \n",
    "                # Stop learning\n",
    "\n",
    "def generateData(n):\n",
    "\n",
    "    xblue = (rand(n) * 2 - 1) / 2 - 0.25\n",
    "    yblue = (rand(n) * 2 - 1) / 2 + 0.25\n",
    "    xred = (rand(n) * 2 - 1) / 2 + 0.25\n",
    "    yred = (rand(n) * 2 - 1) / 2 - 0.25\n",
    "    \n",
    "    inputs = []\n",
    "    for i in range(len(xblue)):\n",
    "        inputs.append([xblue[i], yblue[i], 1])\n",
    "        inputs.append([xred[i], yred[i], -1])\n",
    "    return inputs\n",
    "\n",
    "trainset = generateData(25) # train set generation\n",
    "\n",
    "# Show the training set.\n",
    "for x in trainset:\n",
    " r = x[2]\n",
    " if r == 1:\n",
    "  plot(x[0],x[1],'ob')  \n",
    " else:\n",
    "  plot(x[0],x[1],'or')\n",
    "\n",
    "\n",
    "print()\n",
    "print(\"Training set plot: \")\n",
    "\n",
    "show()\n",
    " \n",
    "# create the perceptron instance.\n",
    "perceptron = Perceptron()   \n",
    "\n",
    "# run the training set through the perceptron\n",
    "perceptron.run(trainset)  \n",
    "\n",
    "# generate the testing set\n",
    "testset = generateData(15)  \n",
    "\n",
    "# Show the testing set.\n",
    "for x in testset:\n",
    " r = x[2]\n",
    " if r == 1:\n",
    "  plot(x[0],x[1],'ob')  \n",
    " else:\n",
    "  plot(x[0],x[1],'or')\n",
    "\n",
    "show()\n",
    "\n",
    "print()\n",
    "print(\"Testing set plot: \")\n",
    "print(\"Checking for errors...\")\n",
    "\n",
    "err = 0\n",
    "\n",
    "# Perceptron test\n",
    "for x in testset:\n",
    " r = perceptron.response(x)\n",
    "# check if the response is not correct, print error\n",
    " if r != x[2]: \n",
    "  err += 1      \n",
    "  print(\"error: \", x[0], \", \", x[1], \", \", x[2])\n",
    " if r == 1:\n",
    "  plot(x[0],x[1],'ob')  \n",
    " else:\n",
    "  plot(x[0],x[1],'or')\n",
    "\n",
    "print(\"Total number of misclassifications: \", err)\n",
    "\n",
    "\n",
    "\n",
    "# plot of the separation line.\n",
    "# The separation line is orthogonal to w\n",
    "n = norm(perceptron.weight)\n",
    "\n",
    "print(\"boundary equation:\", n, \"x + b\")\n",
    "\n",
    "ww = perceptron.weight/n\n",
    "ww1 = [ww[1],-ww[0]]\n",
    "ww2 = [-ww[1],ww[0]]\n",
    "plot([ww1[0], ww2[0]],[ww1[1], ww2[1]],'--k')\n",
    "show()"
   ]
  },
  {
   "cell_type": "markdown",
   "metadata": {},
   "source": [
    "### Summary of the results from Part Two.\n",
    "\n",
    "The training and testing sets were designed to be partially linearly separable, so it took @ 10000 iterations to discover a workable boundary equation just like the similar test from part 1.  Only a modest amount of weight vector updates were required ( 1322 ).  Interestingly, for this test, there isn't much difference between the end results in part 1 and this test.  We can conclude, for these training and testing data sets, that a different choice of weights had little to no affect on the end results."
   ]
  },
  {
   "cell_type": "markdown",
   "metadata": {},
   "source": [
    "# PART THREE\n",
    "### Will the learning rate change the results of perceptron learning algorithm on this data set?"
   ]
  },
  {
   "cell_type": "markdown",
   "metadata": {},
   "source": [
    "In this test of the PLA, again we will use a partially linearly separable data set, as used in Test 2.\n",
    "Instead of a learning rate set at 0.3, we choose 4.0 and compare the results.  We hold all other \n",
    "elements of the test the same.  The weights are initially set at 0.0 and 0.0 and the training and testing sets are \n",
    "generated using the same formula."
   ]
  },
  {
   "cell_type": "code",
   "execution_count": 45,
   "metadata": {},
   "outputs": [
    {
     "name": "stdout",
     "output_type": "stream",
     "text": [
      "\n",
      "Training set plot: \n"
     ]
    },
    {
     "data": {
      "image/png": "[encoded data removed]",
      "text/plain": [
       "<matplotlib.figure.Figure at 0x10f37c668>"
      ]
     },
     "metadata": {},
     "output_type": "display_data"
    },
    {
     "name": "stdout",
     "output_type": "stream",
     "text": [
      "iterations:  10000\n",
      "Error:  22.0\n",
      "Total Weight Vector Updates:  1964\n"
     ]
    },
    {
     "data": {
      "image/png": "[encoded data removed]",
      "text/plain": [
       "<matplotlib.figure.Figure at 0x10f52e5c0>"
      ]
     },
     "metadata": {},
     "output_type": "display_data"
    },
    {
     "name": "stdout",
     "output_type": "stream",
     "text": [
      "\n",
      "Testing set plot: \n",
      "Checking for errors...\n",
      "error:  -0.297431519501 ,  0.65288791073 ,  1\n",
      "error:  -0.104096429335 ,  -0.406407953736 ,  -1\n",
      "error:  -0.195221314502 ,  0.414476512869 ,  1\n",
      "error:  0.315953249171 ,  -0.588327438046 ,  -1\n",
      "error:  0.139418886063 ,  -0.177333869175 ,  1\n",
      "error:  -0.125475786642 ,  -0.16936440233 ,  -1\n",
      "error:  -0.0400588384557 ,  -0.340266804886 ,  -1\n",
      "error:  0.0608084194678 ,  0.0321219520528 ,  1\n",
      "error:  0.0544529971396 ,  -0.522531003823 ,  -1\n",
      "error:  0.191590875909 ,  0.689363322111 ,  1\n",
      "error:  0.039975019667 ,  -0.366977765288 ,  -1\n",
      "error:  0.127203978513 ,  -0.662927442147 ,  -1\n",
      "error:  -0.228945196695 ,  0.370805120906 ,  1\n",
      "error:  0.42093152242 ,  -0.675994252889 ,  -1\n",
      "error:  -0.0236575254851 ,  0.486123419939 ,  1\n",
      "error:  -0.0568744731519 ,  0.0190271183975 ,  -1\n",
      "Total number of misclassifications:  16\n",
      "boundary equation: 2.3095265519 x + b\n"
     ]
    },
    {
     "data": {
      "image/png": "[encoded data removed]",
      "text/plain": [
       "<matplotlib.figure.Figure at 0x10f064198>"
      ]
     },
     "metadata": {},
     "output_type": "display_data"
    }
   ],
   "source": [
    "class Perceptron:\n",
    "    def __init__(self):\n",
    "        \n",
    "        # ranged: [-1.0, 1.0]\n",
    "        self.weight = [0.0, 0.0] \n",
    "        # step size constant\n",
    "        self.learningRate = 4  \n",
    "        \n",
    "    def response(self, x):\n",
    "        \n",
    "        # dot product between x and w\n",
    "        y = x[0] * self.weight[0] + x[1] * self.weight[1]  \n",
    "        if y >= 0:\n",
    "            return 1\n",
    "        else:\n",
    "            return -1\n",
    "        \n",
    "    def updateWeights(self, x, iterError):\n",
    "         \n",
    "        self.weight[0] += self.learningRate * iterError * x[0]\n",
    "        self.weight[1] += self.learningRate * iterError * x[1]\n",
    "        \n",
    "    def run(self, data):\n",
    "        \"\"\"\n",
    "        train all the vectors in data\n",
    "        Every vector in data must have three elements,\n",
    "        the third element (x[2]) must be the label (desired output)\n",
    "        \"\"\"\n",
    "        learned = False\n",
    "        iteration = 0\n",
    "        \n",
    "        weightUpdateCount = 0\n",
    "        \n",
    "        while not learned:\n",
    "            error = 0.0\n",
    "            for x in data:\n",
    "                r = self.response(x)\n",
    "                # if we have a wrong response\n",
    "                if x[2] != r:  \n",
    "                    # desired response - actual response\n",
    "                    iterError = x[2] - r \n",
    "                    self.updateWeights(x, iterError)\n",
    "                    weightUpdateCount+=1\n",
    "                    error += abs(iterError)\n",
    "                iteration += 1\n",
    "            if error == 0.0 or iteration >= 10000:\n",
    "                print(\"iterations: \", iteration)\n",
    "                print(\"Error: \", error)\n",
    "                print(\"Total Weight Vector Updates: \", weightUpdateCount)\n",
    "                learned = True \n",
    "                # Stop learning\n",
    "\n",
    "def generateData(n):\n",
    "\n",
    "    xblue = (rand(n) * 2 - 1) / 2 - 0.25\n",
    "    yblue = (rand(n) * 2 - 1) / 2 + 0.25\n",
    "    xred = (rand(n) * 2 - 1) / 2 + 0.25\n",
    "    yred = (rand(n) * 2 - 1) / 2 - 0.25\n",
    "    \n",
    "    inputs = []\n",
    "    for i in range(len(xblue)):\n",
    "        inputs.append([xblue[i], yblue[i], 1])\n",
    "        inputs.append([xred[i], yred[i], -1])\n",
    "    return inputs\n",
    "\n",
    "trainset = generateData(25) # train set generation\n",
    "\n",
    "# Show the training set.\n",
    "for x in trainset:\n",
    " r = x[2]\n",
    " if r == 1:\n",
    "  plot(x[0],x[1],'ob')  \n",
    " else:\n",
    "  plot(x[0],x[1],'or')\n",
    "\n",
    "\n",
    "print()\n",
    "print(\"Training set plot: \")\n",
    "\n",
    "show()\n",
    " \n",
    "# create the perceptron instance.\n",
    "perceptron = Perceptron()   \n",
    "\n",
    "# run the training set through the perceptron\n",
    "perceptron.run(trainset)  \n",
    "\n",
    "# generate the testing set\n",
    "testset = generateData(15)  \n",
    "\n",
    "# Show the testing set.\n",
    "for x in testset:\n",
    " r = x[2]\n",
    " if r == 1:\n",
    "  plot(x[0],x[1],'ob')  \n",
    " else:\n",
    "  plot(x[0],x[1],'or')\n",
    "\n",
    "show()\n",
    "\n",
    "print()\n",
    "print(\"Testing set plot: \")\n",
    "print(\"Checking for errors...\")\n",
    "\n",
    "err = 0\n",
    "\n",
    "# Perceptron test\n",
    "for x in testset:\n",
    " r = perceptron.response(x)\n",
    "# check if the response is not correct, print error\n",
    " if r != x[2]: \n",
    "  err += 1      \n",
    "  print(\"error: \", x[0], \", \", x[1], \", \", x[2])\n",
    " if r == 1:\n",
    "  plot(x[0],x[1],'ob')  \n",
    " else:\n",
    "  plot(x[0],x[1],'or')\n",
    "\n",
    "print(\"Total number of misclassifications: \", err)\n",
    "\n",
    "\n",
    "\n",
    "# plot of the separation line.\n",
    "# The separation line is orthogonal to w\n",
    "n = norm(perceptron.weight)\n",
    "\n",
    "print(\"boundary equation:\", n, \"x + b\")\n",
    "\n",
    "ww = perceptron.weight/n\n",
    "ww1 = [ww[1],-ww[0]]\n",
    "ww2 = [-ww[1],ww[0]]\n",
    "plot([ww1[0], ww2[0]],[ww1[1], ww2[1]],'--k')\n",
    "show()"
   ]
  },
  {
   "cell_type": "markdown",
   "metadata": {},
   "source": [
    "### Summary of the results from Part Three.\n",
    "\n",
    "The training and testing sets were designed to be partially linearly separable, so it took @ 10000 iterations to discover a workable boundary equation just like the similar test from part 2.  There are a couple of substantial differences between the end results in part 1 and this test.  For example, the initial number of errors ( 22 ) is higher on the training set when using a high learning rate.  Also, the algorithm require a greater number ( 1964 ) of total weight vector updates.  The final number of misclassifications totaled 16 vs 6 in the original test 2.  We can conclude, for this training set and testing set, that a different choice of learning rate can substantially affect the end results."
   ]
  },
  {
   "cell_type": "markdown",
   "metadata": {},
   "source": [
    "# PART FOUR\n",
    "### Will altering the order the data is processed change the results of perceptron learning algorithm on this data set?"
   ]
  },
  {
   "cell_type": "markdown",
   "metadata": {},
   "source": [
    "For the final test, we will shuffle the training data set and compare the results to determine if loading the data in a different fashion could alter the results of the PLA.  "
   ]
  },
  {
   "cell_type": "code",
   "execution_count": 44,
   "metadata": {},
   "outputs": [
    {
     "name": "stdout",
     "output_type": "stream",
     "text": [
      "\n",
      "Training set plot: \n"
     ]
    },
    {
     "data": {
      "image/png": "[encoded data removed]",
      "text/plain": [
       "<matplotlib.figure.Figure at 0x10eec5908>"
      ]
     },
     "metadata": {},
     "output_type": "display_data"
    },
    {
     "name": "stdout",
     "output_type": "stream",
     "text": [
      "iterations:  10000\n",
      "Error:  16.0\n",
      "Total Weight Vector Updates:  1837\n"
     ]
    },
    {
     "data": {
      "image/png": "[encoded data removed]",
      "text/plain": [
       "<matplotlib.figure.Figure at 0x10f648748>"
      ]
     },
     "metadata": {},
     "output_type": "display_data"
    },
    {
     "name": "stdout",
     "output_type": "stream",
     "text": [
      "\n",
      "Testing set plot: \n",
      "Checking for errors...\n",
      "error:  0.210616589037 ,  0.214101453949 ,  1\n",
      "error:  0.100491678526 ,  0.184139259366 ,  -1\n",
      "Total number of misclassifications:  2\n",
      "boundary equation: 0.242490842786 x + b\n"
     ]
    },
    {
     "data": {
      "image/png": "[encoded data removed]",
      "text/plain": [
       "<matplotlib.figure.Figure at 0x10f0675f8>"
      ]
     },
     "metadata": {},
     "output_type": "display_data"
    }
   ],
   "source": [
    "from random import shuffle\n",
    "\n",
    "class Perceptron:\n",
    "    def __init__(self):\n",
    "        \n",
    "        # ranged: [-1.0, 1.0]\n",
    "        self.weight = [0.0, 0.0] \n",
    "        # step size constant\n",
    "        self.learningRate = .3  \n",
    "        \n",
    "    def response(self, x):\n",
    "        \n",
    "        # dot product between x and w\n",
    "        y = x[0] * self.weight[0] + x[1] * self.weight[1]  \n",
    "        if y >= 0:\n",
    "            return 1\n",
    "        else:\n",
    "            return -1\n",
    "        \n",
    "    def updateWeights(self, x, iterError):\n",
    "         \n",
    "        self.weight[0] += self.learningRate * iterError * x[0]\n",
    "        self.weight[1] += self.learningRate * iterError * x[1]\n",
    "        \n",
    "    def run(self, data):\n",
    "        \"\"\"\n",
    "        train all the vectors in data\n",
    "        Every vector in data must have three elements,\n",
    "        the third element (x[2]) must be the label (desired output)\n",
    "        \"\"\"\n",
    "        learned = False\n",
    "        iteration = 0\n",
    "        \n",
    "        weightUpdateCount = 0\n",
    "        \n",
    "        while not learned:\n",
    "            error = 0.0\n",
    "            for x in data:\n",
    "                r = self.response(x)\n",
    "                # if we have a wrong response\n",
    "                if x[2] != r:  \n",
    "                    # desired response - actual response\n",
    "                    iterError = x[2] - r \n",
    "                    self.updateWeights(x, iterError)\n",
    "                    weightUpdateCount+=1\n",
    "                    error += abs(iterError)\n",
    "                iteration += 1\n",
    "            if error == 0.0 or iteration >= 10000:\n",
    "                print(\"iterations: \", iteration)\n",
    "                print(\"Error: \", error)\n",
    "                print(\"Total Weight Vector Updates: \", weightUpdateCount)\n",
    "                learned = True \n",
    "                # Stop learning\n",
    "\n",
    "def generateData(n):\n",
    "\n",
    "    xblue = (rand(n) * 2 - 1) / 2 - 0.25\n",
    "    yblue = (rand(n) * 2 - 1) / 2 + 0.25\n",
    "    xred = (rand(n) * 2 - 1) / 2 + 0.25\n",
    "    yred = (rand(n) * 2 - 1) / 2 - 0.25\n",
    "    \n",
    "    inputs = []\n",
    "    for i in range(len(xblue)):\n",
    "        inputs.append([xblue[i], yblue[i], 1])\n",
    "        inputs.append([xred[i], yred[i], -1])\n",
    "    return inputs\n",
    "\n",
    "trainset = generateData(25) # train set generation\n",
    "\n",
    "# SHUFFLE THE DATASET\n",
    "shuffle(trainset)\n",
    "\n",
    "# Show the training set.\n",
    "for x in trainset:\n",
    " r = x[2]\n",
    " if r == 1:\n",
    "  plot(x[0],x[1],'ob')  \n",
    " else:\n",
    "  plot(x[0],x[1],'or')\n",
    "\n",
    "\n",
    "print()\n",
    "print(\"Training set plot: \")\n",
    "\n",
    "show()\n",
    " \n",
    "# create the perceptron instance.\n",
    "perceptron = Perceptron()   \n",
    "\n",
    "# run the training set through the perceptron\n",
    "perceptron.run(trainset)  \n",
    "\n",
    "# generate the testing set\n",
    "testset = generateData(15)  \n",
    "\n",
    "# Show the testing set.\n",
    "for x in testset:\n",
    " r = x[2]\n",
    " if r == 1:\n",
    "  plot(x[0],x[1],'ob')  \n",
    " else:\n",
    "  plot(x[0],x[1],'or')\n",
    "\n",
    "show()\n",
    "\n",
    "print()\n",
    "print(\"Testing set plot: \")\n",
    "print(\"Checking for errors...\")\n",
    "\n",
    "err = 0\n",
    "\n",
    "# Perceptron test\n",
    "for x in testset:\n",
    " r = perceptron.response(x)\n",
    "# check if the response is not correct, print error\n",
    " if r != x[2]: \n",
    "  err += 1      \n",
    "  print(\"error: \", x[0], \", \", x[1], \", \", x[2])\n",
    " if r == 1:\n",
    "  plot(x[0],x[1],'ob')  \n",
    " else:\n",
    "  plot(x[0],x[1],'or')\n",
    "\n",
    "print(\"Total number of misclassifications: \", err)\n",
    "\n",
    "\n",
    "\n",
    "# plot of the separation line.\n",
    "# The separation line is orthogonal to w\n",
    "n = norm(perceptron.weight)\n",
    "\n",
    "print(\"boundary equation:\", n, \"x + b\")\n",
    "\n",
    "ww = perceptron.weight/n\n",
    "ww1 = [ww[1],-ww[0]]\n",
    "ww2 = [-ww[1],ww[0]]\n",
    "plot([ww1[0], ww2[0]],[ww1[1], ww2[1]],'--k')\n",
    "show()"
   ]
  },
  {
   "cell_type": "markdown",
   "metadata": {},
   "source": [
    "### Summary of the results from Part 4.\n",
    "\n",
    "The number of errors and the number of weight vector updates were within range of the results of test 2.  The total number of misclassifications ( 2 ) does not greatly differ from the number ( 4 ) in the previous test.  We can conclude that however the data set is iterated, the end results of the PLA will be approximately the same."
   ]
  },
  {
   "cell_type": "markdown",
   "metadata": {},
   "source": [
    "# FINAL REPORT.\n",
    "\n",
    "We've tested the PLA with several different changes to the variables.  Per the project requirements, we've highlighted whether or not linearly separable data points affect the PLA's performance (it does).  We've changed the the weights and learning rates and found, especially with the learning rate, changes to performance and efficiency can occur.  \n",
    "\n",
    "We've discovered that no matter what, the PLA will come up with a workable decision boundary.  This is based on the amount of iterations we allow the algorithm to perform.\n",
    "\n",
    "We've also discovered that order in which we considering the training data has little to no effect on the end result."
   ]
  },
  {
   "cell_type": "code",
   "execution_count": null,
   "metadata": {
    "collapsed": true
   },
   "outputs": [],
   "source": []
  }
 ],
 "metadata": {
  "kernelspec": {
   "display_name": "Python 3",
   "language": "python",
   "name": "python3"
  },
  "language_info": {
   "codemirror_mode": {
    "name": "ipython",
    "version": 3
   },
   "file_extension": ".py",
   "mimetype": "text/x-python",
   "name": "python",
   "nbconvert_exporter": "python",
   "pygments_lexer": "ipython3",
   "version": "3.6.4"
  }
 },
 "nbformat": 4,
 "nbformat_minor": 2
}
